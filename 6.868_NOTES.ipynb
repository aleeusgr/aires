{
 "cells": [
  {
   "cell_type": "markdown",
   "metadata": {},
   "source": [
    "## Lecture 1. Intro."
   ]
  },
  {
   "cell_type": "markdown",
   "metadata": {
    "jupyter": {
     "source_hidden": true
    }
   },
   "source": [
    "#### Session 1, 01.09.20 9:20\n",
    "* Reading: Emotion Machine, Society of mind(easier)  \n",
    "Infuence: Martin Rees, Oppenheimer, Einstein, Godel, Herbert A Simon; big slide ~30 people.\n",
    "\n",
    "\n",
    "Why do we need machines??  \n",
    "Existence of humaity brings problems of incredible complexity, some of them are potential threat to existence.  \n",
    "\n",
    "Argument with asian girl, my thoughts: Jaak Pankcepp: 6 basic emotions parallels with 7 chakras, coincidence?  \n",
    "\"Ethicists are people who think of reasons not to do things. Not stating they are wrong, but its a funny job.\"  \n",
    "\n",
    "Smart robot solution: hence artificial intelligence.  \n",
    "Resourcefullness\n",
    "\n",
    "Some history of computing and AI..  \n",
    "Human vision: 12 non-trivial things we can do without thinking.\n",
    "\n",
    "Aristotle, Feinman on representing ideas in defferent ways (!): \"every theoretical physicist, whos any good, knows 6 or 7 ways to talk about same physics\"  \n",
    "Description: Functional, structural  \n",
    "Slide: main branches of AI and the problems they are facing.  \n",
    "Humans have different ways of thinking about things, building different representation and reasoning about same problem.  \n",
    "400 distingushable areas in the brain.  \n",
    "6 layers (most parts, each layer has population of different types of cells), columns of few hundred to few thousand cells.  \n",
    "Vision is fairly well understood at low levels: edges, boundries, edges of vision field.  \n",
    "\n",
    "Society of mind has lots of theories on how higher level knowledge is represented in the brain.  \n",
    "K-lines (Minsky Waltz Pollock)\n",
    "The concepts from the book are not(?) widely accepted in neuroscience community.  \n",
    "\n",
    "Idea of non-unified theories of intelligence: physics approach with small set of universal laws fails to explain HI  \n",
    "\n",
    "Statistical learning: look for variables that correlate with the result. Combine in different ways to improve results.  \n",
    "For scientific success think about: what am I good at? and develop these fields. THere's a chance it'll come up to a new valuable idea.   \n",
    "\n",
    "Examples: \n",
    "Saint by J.Slagle  -> Mathematica by Steven Wolfram (smbolic integration)  \n",
    "D. Bobrow (algebraic problems described in natral language)  \n",
    "T.Winograd (controlling a robot by verbal commands)  \n",
    "Evans Geometric analogy problem (shown in AI3ed book)  \n",
    "\n",
    "COMPUTERS and COMMON SENSE  \n",
    "Why you can use a string to pull, but can't to push??\n",
    "\n",
    "Humans have different ways of framing the same problem.\n",
    "Examples of commonsense thinking.  \n",
    "\n",
    "slide??: CRITIC -> SELECTORS model.  \n",
    "\n",
    "Human brain size increase was preceded by other changes.  \n",
    "* Session 2,3: 02,03.09, 6:00  \n",
    "Q&A:  \n",
    "\n",
    "Freud - Interpretation of Dreams  \n",
    "K-Lines:  \n",
    "analogy with punchcard coding system(Calvin Mooers, information retrieval, zatocoding):  \n",
    "80 binary digits let encode large amount of categories by assigning binary codes to them. Objects activate all the categories associated with them and there may be   some overlap, but overall this system lets search tags quite well  \n",
    "signal processing connection paths between regions in the brain.  \n",
    "Columns in the cortex, complicated arrangements of cells on the order of 100  \n",
    "Encoders, decoders and other computational mechanisms.  \n",
    "\n",
    "Artificial intelligence is inevitable?  \n",
    "Rule-based systems -> statistical-based systems:  \n",
    "SBS: guessing the hypothesis and finding instances that are correlating, but what combination of variables are we thinking about??  \n",
    "\n",
    "Henry Lieberman - informal AI  \n",
    "\n",
    "* Session 3, 04.09.20, 7:50  \n",
    "Q&A\n",
    "Douglas Lennet: list of hypothesis, getting reordered based on their success or failure  \n",
    "Somtimes math is slowing you down, sometimes there is an informal way that is better.  \n",
    "\n",
    "On MUSIC  \n",
    "~JBP, music is teaching to represent things in an orderly fashion.  \n",
    "\n",
    "Body-mind  \n",
    "\n",
    "AI - making a system that is recourceful and finds its ways around obstacles.  \n",
    "internal grounding. \n",
    "T"
   ]
  },
  {
   "cell_type": "markdown",
   "metadata": {},
   "source": [
    "### Lecture 2. FiL"
   ]
  },
  {
   "cell_type": "markdown",
   "metadata": {},
   "source": [
    "#### Session 1, 08.09.2020 10:00\n",
    "\n",
    "##### Criticism of old ideas of the mind.\n",
    "'the Self' does the thinking  \n",
    "Aristotle: first intelligeable theories about mind and thinking  \n",
    "Late 1800s: Francis Galton, William James, Freud  \n",
    "\n",
    "Vocabulary for describing emotions is ~300 words,  \n",
    "Ethologists Lorenz, Tinbergen - analyzing animal behavior in great detail.\n",
    "Pavlov and the likes - scientific approach to psychology, quantitavie theories.  \n",
    "Fred Skinner  \n",
    "\n",
    "Next breakthrough in 1950's  \n",
    "Why there was psychology in the Aristotles time and not much between him and 1900's  \n",
    "\"phhysics envy\" - behaviorists  \n",
    "\n",
    "__Seymour Papert__  \n",
    "\n",
    "Most of the brain is because we started out as fish  \n",
    "Person is an ecology of different processes  \n",
    "\n",
    "Redundancy in the brain  \n",
    "\n",
    "agent-based mind model  \n",
    "\n",
    "Id - Ego - SuperEgo  \n",
    "Instinctive reactions - Learned reactions - Deiberative thinking - Reflective thinking - Self-Reflective thinking - Self-Conciouss thinking\n",
    "\n",
    "Self is split into body and mind, each of which has its own parts.  \n",
    "Body - body parts and organs  \n",
    "Mind: Ideas, Goals, Memories, thoughts, Feelings, \n",
    "\n",
    "STOP: 40:00, Q&A session start. \n"
   ]
  }
 ],
 "metadata": {
  "kernelspec": {
   "display_name": "Python 3",
   "language": "python",
   "name": "python3"
  },
  "language_info": {
   "codemirror_mode": {
    "name": "ipython",
    "version": 3
   },
   "file_extension": ".py",
   "mimetype": "text/x-python",
   "name": "python",
   "nbconvert_exporter": "python",
   "pygments_lexer": "ipython3",
   "version": "3.7.6"
  }
 },
 "nbformat": 4,
 "nbformat_minor": 4
}
